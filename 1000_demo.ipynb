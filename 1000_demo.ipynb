{
  "nbformat": 4,
  "nbformat_minor": 0,
  "metadata": {
    "colab": {
      "name": "1000 demo.ipynb",
      "provenance": [],
      "collapsed_sections": [],
      "include_colab_link": true
    },
    "kernelspec": {
      "name": "python3",
      "display_name": "Python 3"
    }
  },
  "cells": [
    {
      "cell_type": "markdown",
      "metadata": {
        "id": "view-in-github",
        "colab_type": "text"
      },
      "source": [
        "<a href=\"https://colab.research.google.com/github/preethitp/DecisionStump/blob/main/1000_demo.ipynb\" target=\"_parent\"><img src=\"https://colab.research.google.com/assets/colab-badge.svg\" alt=\"Open In Colab\"/></a>"
      ]
    },
    {
      "cell_type": "code",
      "metadata": {
        "id": "TYpSQnapTqxB"
      },
      "source": [
        "import pandas as pd\r\n",
        "from sklearn.tree import DecisionTreeClassifier # Import Decision Tree Classifier\r\n",
        "from sklearn.model_selection import train_test_split # Import train_test_split function\r\n",
        "from sklearn import metrics #Import scikit-learn metrics module for accuracy calculation\r\n",
        "import time"
      ],
      "execution_count": null,
      "outputs": []
    },
    {
      "cell_type": "markdown",
      "metadata": {
        "id": "rFDPCZJu-_if"
      },
      "source": [
        "1000 data points dataset with a minimum of 10 feature dimensions."
      ]
    },
    {
      "cell_type": "code",
      "metadata": {
        "id": "GA5tbY-oXmSu"
      },
      "source": [
        "col_names = ['pregnant', 'glucose', 'bp', 'skin', 'insulin', 'bmi', 'pedigree', 'age', 'label']\r\n",
        "df = pd.read_csv(\"/content/diabetes.csv\", header=None, names=col_names)"
      ],
      "execution_count": null,
      "outputs": []
    },
    {
      "cell_type": "code",
      "metadata": {
        "colab": {
          "base_uri": "https://localhost:8080/",
          "height": 136
        },
        "id": "_x4T-TEpXtnR",
        "outputId": "514e31fb-5082-4ef4-acba-14d1dd4f425a"
      },
      "source": [
        "df.head(3)"
      ],
      "execution_count": null,
      "outputs": [
        {
          "output_type": "execute_result",
          "data": {
            "text/html": [
              "<div>\n",
              "<style scoped>\n",
              "    .dataframe tbody tr th:only-of-type {\n",
              "        vertical-align: middle;\n",
              "    }\n",
              "\n",
              "    .dataframe tbody tr th {\n",
              "        vertical-align: top;\n",
              "    }\n",
              "\n",
              "    .dataframe thead th {\n",
              "        text-align: right;\n",
              "    }\n",
              "</style>\n",
              "<table border=\"1\" class=\"dataframe\">\n",
              "  <thead>\n",
              "    <tr style=\"text-align: right;\">\n",
              "      <th></th>\n",
              "      <th>pregnant</th>\n",
              "      <th>glucose</th>\n",
              "      <th>bp</th>\n",
              "      <th>skin</th>\n",
              "      <th>insulin</th>\n",
              "      <th>bmi</th>\n",
              "      <th>pedigree</th>\n",
              "      <th>age</th>\n",
              "      <th>label</th>\n",
              "    </tr>\n",
              "  </thead>\n",
              "  <tbody>\n",
              "    <tr>\n",
              "      <th>0</th>\n",
              "      <td>6</td>\n",
              "      <td>148</td>\n",
              "      <td>72</td>\n",
              "      <td>35</td>\n",
              "      <td>0</td>\n",
              "      <td>33.6</td>\n",
              "      <td>0.627</td>\n",
              "      <td>50</td>\n",
              "      <td>1</td>\n",
              "    </tr>\n",
              "    <tr>\n",
              "      <th>1</th>\n",
              "      <td>1</td>\n",
              "      <td>85</td>\n",
              "      <td>66</td>\n",
              "      <td>29</td>\n",
              "      <td>0</td>\n",
              "      <td>26.6</td>\n",
              "      <td>0.351</td>\n",
              "      <td>31</td>\n",
              "      <td>0</td>\n",
              "    </tr>\n",
              "    <tr>\n",
              "      <th>2</th>\n",
              "      <td>8</td>\n",
              "      <td>183</td>\n",
              "      <td>64</td>\n",
              "      <td>0</td>\n",
              "      <td>0</td>\n",
              "      <td>23.3</td>\n",
              "      <td>0.672</td>\n",
              "      <td>32</td>\n",
              "      <td>1</td>\n",
              "    </tr>\n",
              "  </tbody>\n",
              "</table>\n",
              "</div>"
            ],
            "text/plain": [
              "   pregnant  glucose  bp  skin  insulin   bmi  pedigree  age  label\n",
              "0         6      148  72    35        0  33.6     0.627   50      1\n",
              "1         1       85  66    29        0  26.6     0.351   31      0\n",
              "2         8      183  64     0        0  23.3     0.672   32      1"
            ]
          },
          "metadata": {
            "tags": []
          },
          "execution_count": 50
        }
      ]
    },
    {
      "cell_type": "code",
      "metadata": {
        "id": "gknxwfKoXxeo"
      },
      "source": [
        "feature_cols = ['pregnant', 'insulin', 'bmi', 'age','glucose','bp','pedigree']\r\n",
        "X = df[feature_cols] # Features\r\n",
        "y = df.label # Target variable"
      ],
      "execution_count": null,
      "outputs": []
    },
    {
      "cell_type": "code",
      "metadata": {
        "id": "zJEtE6hMX9I3"
      },
      "source": [
        "X_train, X_test, y_train, y_test = train_test_split(X, y, test_size=0.3, random_state=1) "
      ],
      "execution_count": null,
      "outputs": []
    },
    {
      "cell_type": "code",
      "metadata": {
        "colab": {
          "base_uri": "https://localhost:8080/"
        },
        "id": "tuMKEcjoYo7X",
        "outputId": "4edbab3c-2c72-4b7a-b234-64ff05c7e9f9"
      },
      "source": [
        "a=time.time()\r\n",
        "clf = DecisionTreeClassifier(criterion=\"gini\", max_depth=1)\r\n",
        "clf = clf.fit(X_train,y_train)\r\n",
        "b=time.time()\r\n",
        "t=b-a\r\n",
        "print(\"Time taken\",t,\"sec\")"
      ],
      "execution_count": null,
      "outputs": [
        {
          "output_type": "stream",
          "text": [
            "Time taken 0.011028289794921875 sec\n"
          ],
          "name": "stdout"
        }
      ]
    },
    {
      "cell_type": "code",
      "metadata": {
        "colab": {
          "base_uri": "https://localhost:8080/"
        },
        "id": "0hmLsjZFDshG",
        "outputId": "5666b9cc-b97e-4f13-92cc-e3b9448411a6"
      },
      "source": [
        "y_pred = clf.predict(X_train)\r\n",
        "print(\"Accuracy:\",metrics.accuracy_score(y_train, y_pred))\r\n",
        "print(\"Training performance\")\r\n",
        "from sklearn import metrics\r\n",
        "expected_y  = y_train\r\n",
        "print(); print(metrics.classification_report(expected_y, y_pred))\r\n",
        "print(); print(metrics.confusion_matrix(expected_y,y_pred))\r\n",
        "print(\"Accuracy:  \",metrics.accuracy_score(expected_y, y_pred))"
      ],
      "execution_count": null,
      "outputs": [
        {
          "output_type": "stream",
          "text": [
            "Accuracy: 0.7362637362637363\n",
            "Training performance\n",
            "\n",
            "              precision    recall  f1-score   support\n",
            "\n",
            "           0       0.81      0.78      0.79       595\n",
            "           1       0.61      0.65      0.63       315\n",
            "\n",
            "    accuracy                           0.74       910\n",
            "   macro avg       0.71      0.72      0.71       910\n",
            "weighted avg       0.74      0.74      0.74       910\n",
            "\n",
            "\n",
            "[[465 130]\n",
            " [110 205]]\n",
            "Accuracy:   0.7362637362637363\n"
          ],
          "name": "stdout"
        }
      ]
    },
    {
      "cell_type": "code",
      "metadata": {
        "id": "LgpjRdrTaIZz",
        "colab": {
          "base_uri": "https://localhost:8080/"
        },
        "outputId": "e39f0a79-e358-44d9-a361-30fe987a1bfe"
      },
      "source": [
        "y_pred = clf.predict(X_test)\r\n",
        "print(\"Accuracy:\",metrics.accuracy_score(y_test, y_pred))"
      ],
      "execution_count": null,
      "outputs": [
        {
          "output_type": "stream",
          "text": [
            "Accuracy: 0.7410256410256411\n"
          ],
          "name": "stdout"
        }
      ]
    },
    {
      "cell_type": "code",
      "metadata": {
        "id": "1nMJRF2l89om",
        "colab": {
          "base_uri": "https://localhost:8080/"
        },
        "outputId": "dcab76f3-ee92-4a6a-d93c-7f851271d9af"
      },
      "source": [
        "from sklearn import metrics\r\n",
        "expected_y  = y_test\r\n",
        "print(); print(metrics.classification_report(expected_y, y_pred))\r\n",
        "print(); print(metrics.confusion_matrix(expected_y,y_pred))\r\n",
        "print(\"Accuracy:  \",metrics.accuracy_score(expected_y, y_pred))"
      ],
      "execution_count": null,
      "outputs": [
        {
          "output_type": "stream",
          "text": [
            "\n",
            "              precision    recall  f1-score   support\n",
            "\n",
            "           0       0.82      0.78      0.80       256\n",
            "           1       0.61      0.66      0.64       134\n",
            "\n",
            "    accuracy                           0.74       390\n",
            "   macro avg       0.72      0.72      0.72       390\n",
            "weighted avg       0.75      0.74      0.74       390\n",
            "\n",
            "\n",
            "[[200  56]\n",
            " [ 45  89]]\n",
            "Accuracy:   0.7410256410256411\n"
          ],
          "name": "stdout"
        }
      ]
    },
    {
      "cell_type": "markdown",
      "metadata": {
        "id": "G6kxIfqk_Jo3"
      },
      "source": [
        "*5000* data points dataset with a minimum of 10 feature dimensions."
      ]
    },
    {
      "cell_type": "code",
      "metadata": {
        "id": "ANWaagCf_LMU"
      },
      "source": [
        "col_names = ['pregnant', 'glucose', 'bp', 'skin', 'insulin', 'bmi', 'pedigree', 'age', 'label']\r\n",
        "df1 = pd.read_csv(\"/content/diabetes_5000.csv\", header=None, names=col_names)"
      ],
      "execution_count": null,
      "outputs": []
    },
    {
      "cell_type": "code",
      "metadata": {
        "id": "EeduCl1B_z2H"
      },
      "source": [
        "feature_cols = ['pregnant', 'insulin', 'bmi', 'age','glucose','bp','pedigree']\r\n",
        "X = df1[feature_cols] # Features\r\n",
        "y = df1.label # Target variable"
      ],
      "execution_count": null,
      "outputs": []
    },
    {
      "cell_type": "code",
      "metadata": {
        "id": "DRASFQqrAH82"
      },
      "source": [
        "X_train, X_test, y_train, y_test = train_test_split(X, y, test_size=0.3, random_state=1) "
      ],
      "execution_count": null,
      "outputs": []
    },
    {
      "cell_type": "code",
      "metadata": {
        "colab": {
          "base_uri": "https://localhost:8080/"
        },
        "id": "0JAG67EZALYb",
        "outputId": "f13f2cdf-1f81-4e85-b584-4c6f477b61da"
      },
      "source": [
        "a=time.time()\r\n",
        "clf = DecisionTreeClassifier(criterion=\"gini\", max_depth=1)\r\n",
        "clf = clf.fit(X_train,y_train)\r\n",
        "b=time.time()\r\n",
        "t=b-a\r\n",
        "print(\"Time taken\",t,\"sec\")"
      ],
      "execution_count": null,
      "outputs": [
        {
          "output_type": "stream",
          "text": [
            "Time taken 0.003320455551147461 sec\n"
          ],
          "name": "stdout"
        }
      ]
    },
    {
      "cell_type": "code",
      "metadata": {
        "colab": {
          "base_uri": "https://localhost:8080/"
        },
        "id": "KLm0Z3RvDqRP",
        "outputId": "cd064108-ad91-4a9a-ca04-45fbb39caec8"
      },
      "source": [
        "y_pred = clf.predict(X_train)\r\n",
        "print(\"Accuracy:\",metrics.accuracy_score(y_train, y_pred))\r\n",
        "print(\"Training performance\")\r\n",
        "from sklearn import metrics\r\n",
        "expected_y  = y_train\r\n",
        "print(); print(metrics.classification_report(expected_y, y_pred))\r\n",
        "print(); print(metrics.confusion_matrix(expected_y,y_pred))\r\n",
        "print(\"Accuracy:  \",metrics.accuracy_score(expected_y, y_pred))"
      ],
      "execution_count": null,
      "outputs": [
        {
          "output_type": "stream",
          "text": [
            "Accuracy: 0.7414835164835165\n",
            "Training performance\n",
            "\n",
            "              precision    recall  f1-score   support\n",
            "\n",
            "           0       0.82      0.78      0.80      2383\n",
            "           1       0.62      0.67      0.64      1257\n",
            "\n",
            "    accuracy                           0.74      3640\n",
            "   macro avg       0.72      0.72      0.72      3640\n",
            "weighted avg       0.75      0.74      0.74      3640\n",
            "\n",
            "\n",
            "[[1855  528]\n",
            " [ 413  844]]\n",
            "Accuracy:   0.7414835164835165\n"
          ],
          "name": "stdout"
        }
      ]
    },
    {
      "cell_type": "code",
      "metadata": {
        "colab": {
          "base_uri": "https://localhost:8080/"
        },
        "id": "ieCYmpHIAN7w",
        "outputId": "0d9a513d-bd70-4cf2-cb3c-6c7a9aec0c89"
      },
      "source": [
        "y_pred = clf.predict(X_test)\r\n",
        "print(\"Accuracy:\",metrics.accuracy_score(y_test, y_pred))"
      ],
      "execution_count": null,
      "outputs": [
        {
          "output_type": "stream",
          "text": [
            "Accuracy: 0.7288461538461538\n"
          ],
          "name": "stdout"
        }
      ]
    },
    {
      "cell_type": "code",
      "metadata": {
        "colab": {
          "base_uri": "https://localhost:8080/"
        },
        "id": "HIF9-dJfAR-O",
        "outputId": "95898dc3-a9ed-4590-bea6-5fec11df2174"
      },
      "source": [
        "from sklearn import metrics\r\n",
        "expected_y  = y_test\r\n",
        "print(); print(metrics.classification_report(expected_y, y_pred))\r\n",
        "print(); print(metrics.confusion_matrix(expected_y,y_pred))\r\n",
        "print(\"Accuracy:  \",metrics.accuracy_score(expected_y, y_pred))"
      ],
      "execution_count": null,
      "outputs": [
        {
          "output_type": "stream",
          "text": [
            "\n",
            "              precision    recall  f1-score   support\n",
            "\n",
            "           0       0.80      0.79      0.79      1021\n",
            "           1       0.61      0.62      0.61       539\n",
            "\n",
            "    accuracy                           0.73      1560\n",
            "   macro avg       0.70      0.70      0.70      1560\n",
            "weighted avg       0.73      0.73      0.73      1560\n",
            "\n",
            "\n",
            "[[805 216]\n",
            " [207 332]]\n",
            "Accuracy:   0.7288461538461538\n"
          ],
          "name": "stdout"
        }
      ]
    },
    {
      "cell_type": "markdown",
      "metadata": {
        "id": "C4-FFyCbAZbT"
      },
      "source": [
        "10000 data points dataset with a minimum of 10 feature dimensions text"
      ]
    },
    {
      "cell_type": "code",
      "metadata": {
        "id": "A3Meo8j-AX2t"
      },
      "source": [
        "col_names = ['pregnant', 'glucose', 'bp', 'skin', 'insulin', 'bmi', 'pedigree', 'age', 'label']\r\n",
        "df2 = pd.read_csv(\"/content/diabetes_10000.csv\", header=None, names=col_names)"
      ],
      "execution_count": null,
      "outputs": []
    },
    {
      "cell_type": "code",
      "metadata": {
        "id": "FOixGcUJCFD6"
      },
      "source": [
        "feature_cols = ['pregnant', 'insulin', 'bmi', 'age','glucose','bp','pedigree']\r\n",
        "X = df2[feature_cols] # Features\r\n",
        "y = df2.label # Target variable"
      ],
      "execution_count": null,
      "outputs": []
    },
    {
      "cell_type": "code",
      "metadata": {
        "id": "U9ys2Vs_CKtW"
      },
      "source": [
        "X_train, X_test, y_train, y_test = train_test_split(X, y, test_size=0.3, random_state=1) "
      ],
      "execution_count": null,
      "outputs": []
    },
    {
      "cell_type": "code",
      "metadata": {
        "colab": {
          "base_uri": "https://localhost:8080/"
        },
        "id": "fFeuJLB2COR-",
        "outputId": "fffe0d0c-a5d1-49f6-8f8f-f88b2cf9875d"
      },
      "source": [
        "a=time.time()\r\n",
        "clf = DecisionTreeClassifier(criterion=\"gini\", max_depth=1)\r\n",
        "clf = clf.fit(X_train,y_train)\r\n",
        "b=time.time()\r\n",
        "t=b-a\r\n",
        "print(\"Time taken\",t,\"sec\")"
      ],
      "execution_count": null,
      "outputs": [
        {
          "output_type": "stream",
          "text": [
            "Time taken 0.008740663528442383 sec\n"
          ],
          "name": "stdout"
        }
      ]
    },
    {
      "cell_type": "code",
      "metadata": {
        "colab": {
          "base_uri": "https://localhost:8080/"
        },
        "id": "gWjM50FvCUDo",
        "outputId": "cbecd87d-c8b3-4ccc-a90c-35d76de715aa"
      },
      "source": [
        "y_pred = clf.predict(X_test)\r\n",
        "print(\"Accuracy:\",metrics.accuracy_score(y_test, y_pred))"
      ],
      "execution_count": null,
      "outputs": [
        {
          "output_type": "stream",
          "text": [
            "Accuracy: 0.7397435897435898\n"
          ],
          "name": "stdout"
        }
      ]
    },
    {
      "cell_type": "code",
      "metadata": {
        "colab": {
          "base_uri": "https://localhost:8080/"
        },
        "id": "ZqsioOV8CZOZ",
        "outputId": "dd3c0bcd-f21e-4d45-ec9c-533bdb37258b"
      },
      "source": [
        "print(\"Testing performance\")\r\n",
        "from sklearn import metrics\r\n",
        "expected_y  = y_test\r\n",
        "print(); print(metrics.classification_report(expected_y, y_pred))\r\n",
        "print(); print(metrics.confusion_matrix(expected_y,y_pred))\r\n",
        "print(\"Accuracy:  \",metrics.accuracy_score(expected_y, y_pred))"
      ],
      "execution_count": null,
      "outputs": [
        {
          "output_type": "stream",
          "text": [
            "Testing performance\n",
            "\n",
            "              precision    recall  f1-score   support\n",
            "\n",
            "           0       0.81      0.78      0.79      2016\n",
            "           1       0.62      0.67      0.65      1104\n",
            "\n",
            "    accuracy                           0.74      3120\n",
            "   macro avg       0.72      0.72      0.72      3120\n",
            "weighted avg       0.74      0.74      0.74      3120\n",
            "\n",
            "\n",
            "[[1568  448]\n",
            " [ 364  740]]\n",
            "Accuracy:   0.7397435897435898\n"
          ],
          "name": "stdout"
        }
      ]
    },
    {
      "cell_type": "code",
      "metadata": {
        "colab": {
          "base_uri": "https://localhost:8080/"
        },
        "id": "q8gNLRooDMCN",
        "outputId": "241840f2-47b3-49b8-9000-072b19d291cf"
      },
      "source": [
        "y_pred = clf.predict(X_train)\r\n",
        "print(\"Accuracy:\",metrics.accuracy_score(y_train, y_pred))\r\n",
        "print(\"Training performance\")\r\n",
        "from sklearn import metrics\r\n",
        "expected_y  = y_train\r\n",
        "print(); print(metrics.classification_report(expected_y, y_pred))\r\n",
        "print(); print(metrics.confusion_matrix(expected_y,y_pred))\r\n",
        "print(\"Accuracy:  \",metrics.accuracy_score(expected_y, y_pred))"
      ],
      "execution_count": null,
      "outputs": [
        {
          "output_type": "stream",
          "text": [
            "Accuracy: 0.7368131868131869\n",
            "Training performance\n",
            "\n",
            "              precision    recall  f1-score   support\n",
            "\n",
            "           0       0.81      0.78      0.80      4792\n",
            "           1       0.61      0.65      0.63      2488\n",
            "\n",
            "    accuracy                           0.74      7280\n",
            "   macro avg       0.71      0.72      0.71      7280\n",
            "weighted avg       0.74      0.74      0.74      7280\n",
            "\n",
            "\n",
            "[[3752 1040]\n",
            " [ 876 1612]]\n",
            "Accuracy:   0.7368131868131869\n"
          ],
          "name": "stdout"
        }
      ]
    },
    {
      "cell_type": "code",
      "metadata": {
        "id": "LjxyHWXGEVZV",
        "colab": {
          "base_uri": "https://localhost:8080/",
          "height": 350
        },
        "outputId": "3ffeb58c-924b-439e-9673-fb771cd580c1"
      },
      "source": [
        "import matplotlib.pyplot as plt\r\n",
        "fig = plt.figure()\r\n",
        "ax = fig.add_axes([0,0,1,1])\r\n",
        "langs = ['0','1000','5000','10000']\r\n",
        "students = ['0','0.003','0.008','0.01']\r\n",
        "ax.bar(langs,students)\r\n",
        "plt.ylabel('Learning Time', fontweight='bold')\r\n",
        "plt.xlabel('Data points', fontweight='bold')\r\n",
        "plt.show()"
      ],
      "execution_count": null,
      "outputs": [
        {
          "output_type": "display_data",
          "data": {
            "image/png": "[encoded data removed]",
            "text/plain": [
              "<Figure size 432x288 with 1 Axes>"
            ]
          },
          "metadata": {
            "tags": [],
            "needs_background": "light"
          }
        }
      ]
    }
  ]
}